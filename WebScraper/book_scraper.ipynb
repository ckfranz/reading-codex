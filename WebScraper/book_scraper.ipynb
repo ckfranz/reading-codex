{
 "cells": [
  {
   "cell_type": "code",
   "execution_count": 89,
   "metadata": {},
   "outputs": [],
   "source": [
    "from bs4 import BeautifulSoup\n",
    "import requests\n",
    "import json"
   ]
  },
  {
   "cell_type": "code",
   "execution_count": 90,
   "metadata": {},
   "outputs": [
    {
     "name": "stdout",
     "output_type": "stream",
     "text": [
      "['https://library.tarvalon.net/index.php?title=New_Spring:_Plot_Summary', 'https://library.tarvalon.net/index.php?title=The_Eye_of_the_World:_Plot_Summary', 'https://library.tarvalon.net/index.php?title=The_Great_Hunt:_Plot_Summary', 'https://library.tarvalon.net/index.php?title=The_Dragon_Reborn:_Plot_Summary', 'https://library.tarvalon.net/index.php?title=The_Shadow_Rising:_Plot_Summary', 'https://library.tarvalon.net/index.php?title=The_Fires_of_Heaven:_Plot_Summary', 'https://library.tarvalon.net/index.php?title=Lord_of_Chaos:_Plot_Summary', 'https://library.tarvalon.net/index.php?title=A_Crown_of_Swords:_Plot_Summary', 'https://library.tarvalon.net/index.php?title=The_Path_of_Daggers:_Plot_Summary', 'https://library.tarvalon.net/index.php?title=Winter%27s_Heart:_Plot_Summary', 'https://library.tarvalon.net/index.php?title=Crossroads_of_Twilight:_Plot_Summary', 'https://library.tarvalon.net/index.php?title=Knife_of_Dreams:_Plot_Summary', 'https://library.tarvalon.net/index.php?title=The_Gathering_Storm:_Plot_Summary', 'https://library.tarvalon.net/index.php?title=Towers_of_Midnight:_Plot_Summary', 'https://library.tarvalon.net/index.php?title=A_Memory_of_Light:_Plot_Summary']\n"
     ]
    }
   ],
   "source": [
    "base_url = 'https://library.tarvalon.net'\n",
    "\n",
    "book_summaries_url = 'https://library.tarvalon.net/index.php?title=Book_Summaries'\n",
    "# chapter_summaries_url = 'https://library.tarvalon.net/index.php?title=Book_Summaries'\n",
    "\n",
    "summaries_page = requests.get(book_summaries_url)\n",
    "book_summary_soup = BeautifulSoup(summaries_page.text, 'html')\n",
    "\n",
    "long_summaries = book_summary_soup.find_all('ul')[0]\n",
    "# brief_summaries = book_summary_soup.find_all('ul')[1]\n",
    "\n",
    "full_summary_links_data = long_summaries.find_all('a')\n",
    "# brief_summary_links_data = brief_summaries.find_all('a')\n",
    "\n",
    "\n",
    "book_summary_links = [base_url + link['href'] for link in full_summary_links_data]\n",
    "# brief_book_summary_links = [base_url + link['href'] for link in brief_summary_links_data]\n",
    "\n",
    "print(book_summary_links)"
   ]
  },
  {
   "cell_type": "code",
   "execution_count": 91,
   "metadata": {},
   "outputs": [],
   "source": [
    "def scrape_summary(soup):\n",
    "    # Extract title\n",
    "    title_tag = soup.find('h1', class_='firstHeading')\n",
    "    title = title_tag.text.strip()\n",
    "    title = title.replace(': Plot Summary', '')\n",
    "    \n",
    "    # Extract the main content div\n",
    "    content_div = soup.find('div', class_='mw-content-ltr')\n",
    "\n",
    "    # Remove the last 3 <p> tags (they contain the footer)\n",
    "    all_paragraphs = content_div.find_all('p')\n",
    "    for p in all_paragraphs[-3:]:\n",
    "        p.extract()\n",
    "        \n",
    "    # Remove any nested <div> elements inside the main div (they contain an info box)\n",
    "    for nested_div in content_div.find_all('div'):\n",
    "        nested_div.extract()\n",
    "        \n",
    "    # # Remove leading <br> tags inside <p> tags\n",
    "    # for paragraph in content_div.find_all('p'):\n",
    "    #     # print(paragraph)\n",
    "    #     for br in paragraph.find_all('br'):\n",
    "    #         br.extract()\n",
    "\n",
    "    # Extract author\n",
    "    author_tag = content_div.find('i')\n",
    "    if author_tag:\n",
    "        author = author_tag.text.strip().replace('Author: ', '')\n",
    "        author_tag.extract()  # Ensure the author tag is removed from the content\n",
    "    else:\n",
    "        author = \"Unknown\"  # Default if author tag is missing\n",
    "\n",
    "    # Parse summaries by Section\n",
    "    summaries = {}\n",
    "    current_section = None\n",
    "    default_section = \"Summary\"  # Fallback section name\n",
    "\n",
    "    for tag in content_div.find_all(['p', 'b', 'h2']):\n",
    "        # Skip empty <p> or those with only a <br> tag\n",
    "        if tag.name == 'p' and not tag.get_text(strip=True):\n",
    "            continue\n",
    "        # If the tag is a <p> and contains a <b>, treat <b> as a section header\n",
    "        if tag.name == 'p' and tag.find('b'):\n",
    "            current_section = tag.find('b').get_text(strip=True)\n",
    "            summaries[current_section] = []\n",
    "        # Start a new section if we encounter a header\n",
    "        elif tag.name in ['b', 'h2'] and tag.get_text(strip=True):\n",
    "            current_section = tag.get_text(strip=True)\n",
    "            summaries[current_section] = []\n",
    "        # Otherwise, add the paragraph to the current or default section\n",
    "        elif tag.name == 'p':\n",
    "            section_key = current_section if current_section else default_section\n",
    "            if section_key not in summaries:\n",
    "                summaries[section_key] = []\n",
    "            summaries[section_key].append(tag.get_text(strip=False))\n",
    "\n",
    "    # Format the summaries dictionary\n",
    "    summaries = {section: ''.join(content) for section, content in summaries.items()}\n",
    "\n",
    "    # Print results for debugging\n",
    "    # print(\"Title:\", title)\n",
    "    # print(\"Author:\", author)\n",
    "    # print(\"Summaries by Section:\")\n",
    "    # for section, summary in summaries.items():\n",
    "    #     print(f\"\\n{section}\")\n",
    "    #     print(summary)\n",
    "        \n",
    "    return title, author, summaries\n"
   ]
  },
  {
   "cell_type": "code",
   "execution_count": 92,
   "metadata": {},
   "outputs": [],
   "source": [
    "data = []\n",
    "\n",
    "for link in book_summary_links:\n",
    "# link = book_summary_links[6]\n",
    "    page = requests.get(link)\n",
    "    soup = BeautifulSoup(page.text, 'html')\n",
    "\n",
    "    title, author_name, summary = scrape_summary(soup)\n",
    "    data.append({\"title\": title, \"author\": author_name, \"summary\": summary})\n",
    "\n",
    "# Write the data to a JSON file\n",
    "with open('books.json', 'w') as json_file:\n",
    "    json.dump(data, json_file, indent=4)"
   ]
  }
 ],
 "metadata": {
  "kernelspec": {
   "display_name": ".venv",
   "language": "python",
   "name": "python3"
  },
  "language_info": {
   "codemirror_mode": {
    "name": "ipython",
    "version": 3
   },
   "file_extension": ".py",
   "mimetype": "text/x-python",
   "name": "python",
   "nbconvert_exporter": "python",
   "pygments_lexer": "ipython3",
   "version": "3.13.0"
  }
 },
 "nbformat": 4,
 "nbformat_minor": 2
}
